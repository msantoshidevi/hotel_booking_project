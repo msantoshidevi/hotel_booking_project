{
  "nbformat": 4,
  "nbformat_minor": 0,
  "metadata": {
    "colab": {
      "provenance": [],
      "authorship_tag": "ABX9TyOnXmyncVOSLEyQXVAKseZP",
      "include_colab_link": true
    },
    "kernelspec": {
      "name": "python3",
      "display_name": "Python 3"
    },
    "language_info": {
      "name": "python"
    }
  },
  "cells": [
    {
      "cell_type": "markdown",
      "metadata": {
        "id": "view-in-github",
        "colab_type": "text"
      },
      "source": [
        "<a href=\"https://colab.research.google.com/github/msantoshidevi/hotel_booking_project/blob/hotel_booking_analyses_modification/Hotel_booking_analysis.ipynb\" target=\"_parent\"><img src=\"https://colab.research.google.com/assets/colab-badge.svg\" alt=\"Open In Colab\"/></a>"
      ]
    },
    {
      "cell_type": "markdown",
      "source": [
        "# **Project Name**    - Hotel Booking Analysis\n",
        "\n"
      ],
      "metadata": {
        "id": "vncDsAP0Gaoa"
      }
    },
    {
      "cell_type": "markdown",
      "source": [
        "##### **Project Type**    - EDA\n",
        "##### **Contribution**    - Individual\n",
        "##### **Team Member**     - Santoshi Devi M"
      ],
      "metadata": {
        "id": "BRaoyvZhVHCZ"
      }
    },
    {
      "cell_type": "markdown",
      "source": [
        "# **Project Summary -**"
      ],
      "metadata": {
        "id": "FJNUwmbgGyua"
      }
    },
    {
      "cell_type": "markdown",
      "source": [
        "This exploratory data analysis(EDA) project focuses on analyzing the Hotel Booking dataset. This hotel booking dataset contain booking information for city hotel and resort hotel and includes information such as when the booking was made, length of stay, the number of adults, children and/or babies, and the number of available parking spaces, among other things.\n",
        "\n",
        "It consists of 1,19,390 observations and 31 variables. Each observation represents a hotel booking. The dataset comprehense bookings arrive between the 1st of July of 2015 and 31st of August 2017, including bookings that effectively arrived and bookings that were cancelled.\n",
        "\n",
        "Our analysis can help us understand about the given dataset and draw some useful insights to make some crucial business decisions regarding the factors affecting the bookings of the hotels. In hotel industry, cancellations and average daily rate are two important factors that effects the business.\n",
        "\n",
        "By understanding the factors that are determining the cancellation of certain bookings, the hotels can take necessary precautions to reduce cancellation rate.\n",
        "\n",
        "By understanding the patterns in average daily rate against different variables the hotels can be prepared in advance to generate more revenue and help to make more profitable business.\n",
        "\n",
        "Our goal here is to understand such factors in the given data by performing exploratory data analysis. Exploratory Data Analysis refers to the critical process of performing initial investigations on data, so as to discover patterns, to spot anomalies to test hypothesis and to check assumptions with the help of summary statistics and graphical representations\n",
        "\n",
        "The following are the various steps performed as a part of Exploratory Data Analysis:\n",
        "* Data preparation\n",
        "* Data cleaning\n",
        "* Univariate analysis\n",
        "* Bivariate analysis\n",
        "* Multivariate analysis\n",
        "\n",
        "**Data preparation:** Firstly, we imported libraries and dataset, some of the libraries used are NumPy, Pandas, matplotlib, seaborn. Once dataset and libraries are imported, process of analysis begins. But data have to be translated in an appropriate form. This process is known as data preparation.\n",
        "\n",
        "**Data Cleaning:** The raw data received in the data received in the data set might not be directly suitable for analysis due to presence of unwanted data like, duplicate values, null values, outliers etc. We need to handle them first before we proceed with further analysis.\n",
        "\n",
        "The duplicate values in the dataset to be removed, so that we get accurate patterns and numbers regarding the analysis.\n",
        "\n",
        "The missing information for some or all features in some records, we need to either remove them or find alternatives to fill up the null values.\n",
        "\n",
        "**Univariate Analysis:** Choose a single feature from the data and try to determine what the output or target value is, i.e. one features/variable at a time.\n",
        "* Understand the trends and patterns of data.\n",
        "* Analyze the frequency and other such characteristics of data.\n",
        "* Know the distribution of the variables in the data.\n",
        "* Visualise the relationship that may exist between different variables.\n",
        "\n",
        "**Bivariate Analysis:** We try to analyze two features instead of one, and finally determine the classification of output we are looking for. It is a methodical statistical technique applied to a pair of variables of data to determine the empirical relationship between them. In  order words, it is meant to determine any concurrent relations.\n",
        "\n",
        "**Multivariate Analysis:** We analyze three or more different features at a time, to understand the relationship between all the features involved.\n",
        "\n",
        "After completing all the above processes, we have observed final conclusion from the patterns of the analysis and identified anomalies that can help increase the business objective. Based on findings, we recommand the hotels to implement necessary steps and plans to improve the marketing strategy."
      ],
      "metadata": {
        "id": "F6v_1wHtG2nS"
      }
    },
    {
      "cell_type": "markdown",
      "source": [
        "# **GitHub Link -**"
      ],
      "metadata": {
        "id": "w6K7xa23Elo4"
      }
    },
    {
      "cell_type": "markdown",
      "source": [
        "https://github.com/msantoshidevi/EDA_hotel_booking_project.git"
      ],
      "metadata": {
        "id": "h1o69JH3Eqqn"
      }
    },
    {
      "cell_type": "markdown",
      "source": [
        "# **Problem Statement**\n"
      ],
      "metadata": {
        "id": "yQaldy8SH6Dl"
      }
    },
    {
      "cell_type": "markdown",
      "source": [
        "We are here to explore a hotel booking dataset to discover important factors that govern the bookings, which contain booking information for a city hotel and resort hotel. We will analyze some important aspects of hotel bookings which will helps us identify major loopholes and give us insights which will be helpful to run profitable hotel business are as follows:\n",
        "* Optimal length of stay to get the best daily rate?\n",
        "* Which agent makes most number of bookings?\n",
        "* which month results in high revenue?\n",
        "* To predict whether or not a hotel was likely to receive a disproportionately high number of special requests?"
      ],
      "metadata": {
        "id": "DpeJGUA3kjGy"
      }
    },
    {
      "cell_type": "markdown",
      "source": [
        "#### **Define Your Business Objective?**"
      ],
      "metadata": {
        "id": "PH-0ReGfmX4f"
      }
    },
    {
      "cell_type": "markdown",
      "source": [
        "In Hotel industry, cancellation and Average Daily Rate  are two important factors that helps to run the business effectively.\n",
        "- By understanding the factors that are determining the cancellation of a certain bookings, the hotels can take necessary precautions to reduce cancellation rate.\n",
        "- By understanding the patterns in Average Daily Rate against different variables, the hotels can be prepared in advance to generate more revenue and help to make a profitable business.\n",
        "\n",
        "Our goal here is to understand such factors in the given dataset by performing Exploratory Data Analysis."
      ],
      "metadata": {
        "id": "PhDvGCAqmjP1"
      }
    },
    {
      "cell_type": "markdown",
      "source": [
        "# **General Guidelines** : -  "
      ],
      "metadata": {
        "id": "mDgbUHAGgjLW"
      }
    },
    {
      "cell_type": "markdown",
      "source": [
        "1.   Well-structured, formatted, and commented code is required.\n",
        "2.   Exception Handling, Production Grade Code & Deployment Ready Code will be a plus. Those students will be awarded some additional credits.\n",
        "     \n",
        "     The additional credits will have advantages over other students during Star Student selection.\n",
        "       \n",
        "             [ Note: - Deployment Ready Code is defined as, the whole .ipynb notebook should be executable in one go\n",
        "                       without a single error logged. ]\n",
        "\n",
        "3.   Each and every logic should have proper comments.\n",
        "4. You may add as many number of charts you want. Make Sure for each and every chart the following format should be answered.\n",
        "        \n",
        "\n",
        "```\n",
        "# Chart visualization code\n",
        "```\n",
        "            \n",
        "\n",
        "*   Why did you pick the specific chart?\n",
        "*   What is/are the insight(s) found from the chart?\n",
        "* Will the gained insights help creating a positive business impact?\n",
        "Are there any insights that lead to negative growth? Justify with specific reason.\n",
        "\n",
        "5. You have to create at least 20 logical & meaningful charts having important insights.\n",
        "\n",
        "\n",
        "[ Hints : - Do the Vizualization in  a structured way while following \"UBM\" Rule.\n",
        "\n",
        "U - Univariate Analysis,\n",
        "\n",
        "B - Bivariate Analysis (Numerical - Categorical, Numerical - Numerical, Categorical - Categorical)\n",
        "\n",
        "M - Multivariate Analysis\n",
        " ]\n",
        "\n",
        "\n",
        "\n"
      ],
      "metadata": {
        "id": "ZrxVaUj-hHfC"
      }
    },
    {
      "cell_type": "markdown",
      "source": [
        "# ***Let's Begin !***"
      ],
      "metadata": {
        "id": "O_i_v8NEhb9l"
      }
    }
  ]
}